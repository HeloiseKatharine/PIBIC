{
  "nbformat": 4,
  "nbformat_minor": 0,
  "metadata": {
    "colab": {
      "name": "cnn_kfold_v1.ipynb",
      "provenance": [],
      "collapsed_sections": []
    },
    "kernelspec": {
      "name": "python3",
      "display_name": "Python 3"
    },
    "language_info": {
      "name": "python"
    }
  },
  "cells": [
    {
      "cell_type": "code",
      "metadata": {
        "id": "-Ycav1HO1qAv"
      },
      "source": [
        "from os import P_NOWAIT\n",
        "from numpy.core.defchararray import array, index\n",
        "from sklearn.utils.validation import check_random_state\n",
        "import tensorflow as tf \n",
        "from tensorflow import keras\n",
        "import numpy as np \n",
        "import cv2 as cv\n",
        "import matplotlib.pyplot as plt\n",
        "import datetime\n",
        "from sklearn.model_selection import KFold, StratifiedKFold \n",
        "import pandas as pd\n",
        "from tensorflow.python.autograph.operators.py_builtins import print_\n",
        "from tensorflow.python.keras.backend import backend, clear_session\n",
        "import os\n",
        "from numpy import asarray\n",
        "from PIL import Image\n",
        "from matplotlib import image\n",
        "from sklearn.model_selection import train_test_split\n",
        "from tensorflow.keras.preprocessing.image import ImageDataGenerator\n",
        "\n",
        "IMAGE_SIZE = [224, 224]#tamanho da entrada "
      ],
      "execution_count": 1,
      "outputs": []
    },
    {
      "cell_type": "code",
      "metadata": {
        "id": "sDRgGMMB18dt"
      },
      "source": [
        "#localização das pastas do teste e do treino\n",
        "train = '/content/drive/MyDrive/Colab Notebooks/train'\n",
        "\n",
        "data_train = [] \n",
        "data_test = []\n",
        "\n",
        "#teste \n",
        "treino_M_treino_B = '/content/drive/MyDrive/Colab Notebooks/train'\n",
        "\n",
        "#treinamento\n",
        "treino_M = '/content/drive/MyDrive/Colab Notebooks/train/M'\n",
        "treino_B = '/content/drive/MyDrive/Colab Notebooks/train/B'\n",
        "\n",
        "treino_M = ['/content/drive/MyDrive/Colab Notebooks/train/M/{}'.format(i) for i in os.listdir(treino_M)]\n",
        "treino_B = ['/content/drive/MyDrive/Colab Notebooks/train/B/{}'.format(i) for i in os.listdir(treino_B)]\n",
        "\n",
        "data_labels = []\n",
        "\n",
        "for i in treino_B:\n",
        "  data_labels.append(0)# benigno = 0 maligno = 1\n",
        "\n",
        "for i in treino_M:\n",
        "  data_labels.append(1)# benigno = 0 maligno = 1\n",
        "\n",
        "data_train = treino_B + treino_M #benigno e maligno "
      ],
      "execution_count": 2,
      "outputs": []
    },
    {
      "cell_type": "code",
      "metadata": {
        "id": "AupGENwt2CJp"
      },
      "source": [
        "data_train_labels = [] #criando uma lista de imagens e labels\n",
        "\n",
        "#tranformei todos os dados da lista data_train em uma lista (lista aninhada)\n",
        "for i in data_train:\n",
        "  data_train_labels.append([i])\n",
        "\n",
        "#adicionado o label em cada lista \n",
        "for i in range (0, len(data_train_labels)):\n",
        "    data_train_labels[i].append(data_labels[i])"
      ],
      "execution_count": 3,
      "outputs": []
    },
    {
      "cell_type": "markdown",
      "metadata": {
        "id": "-6yAk5jj2FFP"
      },
      "source": [
        "#dataframe"
      ]
    },
    {
      "cell_type": "code",
      "metadata": {
        "id": "P1UeGJOx2GQb"
      },
      "source": [
        "colunas = ['treinamento', 'teste'] #criando as colunas\n",
        "\n",
        "df = pd.DataFrame(data=data_train_labels, columns = colunas)"
      ],
      "execution_count": 4,
      "outputs": []
    },
    {
      "cell_type": "markdown",
      "metadata": {
        "id": "8oZWn_a32dYz"
      },
      "source": [
        "#Validação do modelo | Kfold"
      ]
    },
    {
      "cell_type": "code",
      "metadata": {
        "id": "6n-1X3HYDuQ5"
      },
      "source": [
        "idg = ImageDataGenerator(width_shift_range=0.1,\n",
        "                         height_shift_range=0.1,\n",
        "                         zoom_range=0.3,\n",
        "                         fill_mode='nearest',\n",
        "                         horizontal_flip = True,\n",
        "                         rescale=1./255)\n",
        "\n",
        "def get_model_name(k):\n",
        "    return 'model_'+str(k)+'.h5'"
      ],
      "execution_count": 5,
      "outputs": []
    },
    {
      "cell_type": "code",
      "metadata": {
        "id": "p7g8rLYz4GAi"
      },
      "source": [
        "df['treinamento'] = df['treinamento'].astype(str)\n",
        "df['teste']= df['teste'].astype(str)\n",
        "\n",
        "#print(type(df.treinamento))\n",
        "#print(type(df.teste))"
      ],
      "execution_count": 7,
      "outputs": []
    },
    {
      "cell_type": "code",
      "metadata": {
        "id": "WDFsa4K1_2En",
        "colab": {
          "base_uri": "https://localhost:8080/"
        },
        "outputId": "3d3c2ccb-24f1-41c8-acff-5540799928c1"
      },
      "source": [
        "x = df['treinamento']\n",
        "Y = df[['teste']]\n",
        "save_dir = '/content/drive/MyDrive/Colab Notebooks/teste/saved_models/'\n",
        "\n",
        "\n",
        "fold_var = 1\n",
        "\n",
        "kfold = KFold(5, True, 1)\n",
        "\n",
        "for train, test in kfold.split(np.zeros(x.shape[0]), Y):\n",
        "\n",
        "  training_data = df.iloc[train]\n",
        "  validation_data = df.iloc[test]\n",
        "  #print('validation_data')\n",
        "  #print(validation_data.size)\n",
        "\n",
        "  train_data_generator = idg.flow_from_dataframe(training_data,directory='.\\teste2',\n",
        "\t\tx_col = \"treinamento\",\n",
        "    y_col = \"teste\",\n",
        "    class_mode = \"categorical\",\n",
        "    target_size=(224, 224),\n",
        "    color_mode=\"rgb\",\n",
        "    shuffle = True)\n",
        "  \n",
        "  valid_data_generator  = idg.flow_from_dataframe(validation_data,directory='.\\teste2',\n",
        "    x_col = \"treinamento\",\n",
        "    y_col = \"teste\",\n",
        "    class_mode = \"categorical\",\n",
        "    target_size=(224, 224),\n",
        "    color_mode=\"rgb\",\n",
        "    shuffle = True)\n",
        "\n",
        "\n",
        "  #Instanciando o modelo VGG16\n",
        "  vgg = keras.applications.vgg16.VGG16(\n",
        "    input_shape = (224,224,3),\n",
        "    weights = 'imagenet', #pesos pré-treinados do imagenet (transfer-learning workflow)\n",
        "    include_top = False\n",
        "  )\n",
        "\n",
        "  #vgg.input\n",
        "  vgg.output\n",
        "\n",
        "  #\"congelar\" o modelo básico\n",
        "  for layer in vgg.layers:\n",
        "    layer.trainable = False\n",
        "\n",
        "  x = keras.layers.Flatten()(vgg.output)\n",
        "  prediction = keras.layers.Dense(2, activation='softmax')(x) #duas classes (B e M)\n",
        "  my_model = keras.Model(inputs=vgg.input, outputs=prediction)\n",
        "  #my_model.summary()\n",
        "\n",
        "  adam = keras.optimizers.Adam()\n",
        "\n",
        "  #compilando o model\n",
        "  my_model.compile(\n",
        "      loss='categorical_crossentropy',\n",
        "\t\t  optimizer=adam,\n",
        "\t\t  metrics=['accuracy']\n",
        "      )\n",
        "  \n",
        "  #treinamento da rede\n",
        "  #*********************************************************\n",
        "  '''\n",
        "  checkpoint = tf.keras.callbacks.ModelCheckpoint(save_dir+get_model_name(fold_var),\n",
        "                                                  monitor='val_accuracy', verbose=1,\n",
        "                                                  save_best_only=True, mode='max')\n",
        "\n",
        "  callbacks_list = [checkpoint]\n",
        "  \n",
        "  history = my_model.fit(train_data_generator,\n",
        "                              validation_data=valid_data_generator,\n",
        "                              epochs = 6,#6\n",
        "                              verbose=1,\n",
        "                              callbacks=callbacks_list)\n",
        "\n",
        "  #print(my_model_fit)\n",
        "  my_model.load_weights(\"/content/drive/MyDrive/Colab Notebooks/teste/saved_models/model_\"+str(fold_var)+\".h5\")\n",
        "\n",
        "  results = my_model.evaluate(valid_data_generator)\n",
        "  '''\n",
        "  #*********************************************************\n",
        "\n",
        "  tf.keras.backend.clear_session()\n",
        "\n",
        "  fold_var += 1"
      ],
      "execution_count": 8,
      "outputs": [
        {
          "output_type": "stream",
          "text": [
            "Found 93 validated image filenames belonging to 2 classes.\n",
            "Found 24 validated image filenames belonging to 2 classes.\n",
            "Downloading data from https://storage.googleapis.com/tensorflow/keras-applications/vgg16/vgg16_weights_tf_dim_ordering_tf_kernels_notop.h5\n",
            "58892288/58889256 [==============================] - 0s 0us/step\n",
            "Found 93 validated image filenames belonging to 2 classes.\n",
            "Found 24 validated image filenames belonging to 2 classes.\n",
            "Found 94 validated image filenames belonging to 2 classes.\n",
            "Found 23 validated image filenames belonging to 2 classes.\n",
            "Found 94 validated image filenames belonging to 2 classes.\n",
            "Found 23 validated image filenames belonging to 2 classes.\n",
            "Found 94 validated image filenames belonging to 2 classes.\n",
            "Found 23 validated image filenames belonging to 2 classes.\n"
          ],
          "name": "stdout"
        }
      ]
    },
    {
      "cell_type": "markdown",
      "metadata": {
        "id": "tAU-zYznctEj"
      },
      "source": [
        "#Testando uma imagem (M)"
      ]
    },
    {
      "cell_type": "code",
      "metadata": {
        "id": "K-3MyU5hPWTc",
        "colab": {
          "base_uri": "https://localhost:8080/",
          "height": 442
        },
        "outputId": "e7310124-15b1-43da-d75c-7bebe59c35ef"
      },
      "source": [
        "img = keras.preprocessing.image.load_img(\"/content/drive/MyDrive/Colab Notebooks/mdb270.PNG\",target_size=(224,224)) #M\n",
        "img = np.asarray(img)\n",
        "plt.imshow(img)\n",
        "img = np.expand_dims(img, axis=0)\n",
        "\n",
        "#saved_model = keras.models.load_model(\"/content/drive/MyDrive/Colab Notebooks/teste/saved_models/model_1.h5\")\n",
        "#print(saved_model)\n",
        "\n",
        "output = my_model.predict(img)\n",
        "\n",
        "print('output')\n",
        "print(output)\n",
        "\n",
        "predictions = my_model.predict_generator(img)\n",
        "\n",
        "#print('predictions')\n",
        "#print(predictions)\n",
        "\n",
        "print(\"\\n**************************************\\n\")\n",
        "\n",
        "argmax = np.argmax(predictions)\n",
        "print(np.argmax(predictions)) #classe\n",
        "\n",
        "if(argmax == 0):\n",
        "    print('Benigno')\n",
        "\n",
        "if(argmax == 1):\n",
        "     print(\"Maligno\")"
      ],
      "execution_count": 15,
      "outputs": [
        {
          "output_type": "stream",
          "text": [
            "output\n",
            "[[0.9927447  0.00725531]]\n"
          ],
          "name": "stdout"
        },
        {
          "output_type": "stream",
          "text": [
            "/usr/local/lib/python3.7/dist-packages/tensorflow/python/keras/engine/training.py:2001: UserWarning: `Model.predict_generator` is deprecated and will be removed in a future version. Please use `Model.predict`, which supports generators.\n",
            "  warnings.warn('`Model.predict_generator` is deprecated and '\n"
          ],
          "name": "stderr"
        },
        {
          "output_type": "stream",
          "text": [
            "\n",
            "**************************************\n",
            "\n",
            "0\n",
            "Benigno\n"
          ],
          "name": "stdout"
        },
        {
          "output_type": "display_data",
          "data": {
            "image/png": "[encoded data removed]",
            "text/plain": [
              "<Figure size 432x288 with 1 Axes>"
            ]
          },
          "metadata": {
            "tags": [],
            "needs_background": "light"
          }
        }
      ]
    },
    {
      "cell_type": "markdown",
      "metadata": {
        "id": "m7Iif2swz5eG"
      },
      "source": [
        "# Confusion matrix | Specificity and Sensitivity\n",
        "\n",
        "\n"
      ]
    },
    {
      "cell_type": "code",
      "metadata": {
        "id": "tFJ1ChZgMi-d"
      },
      "source": [
        "tam = valid_data_generator.classes\n",
        "\n",
        "cont = 0\n",
        "for i in tam:\n",
        "  if(i == 0):\n",
        "    cont+=1\n",
        "\n",
        "#print(cont)"
      ],
      "execution_count": 16,
      "outputs": []
    },
    {
      "cell_type": "code",
      "metadata": {
        "colab": {
          "base_uri": "https://localhost:8080/",
          "height": 1000
        },
        "id": "keXHMDG0ETzX",
        "outputId": "708f824c-1fd7-4263-e5aa-81ba861ddf4f"
      },
      "source": [
        "#Função que calcula uma confusion_matrix para todos os models gerados \n",
        "\n",
        "from sklearn.metrics import classification_report, confusion_matrix \n",
        "from sklearn.linear_model import LinearRegression\n",
        "from sklearn.metrics import ConfusionMatrixDisplay\n",
        "\n",
        "teste = []\n",
        "\n",
        "def confusion_matrix_model(model, i):\n",
        "  classes = [0,1]\n",
        "\n",
        "  predict = model.predict(valid_data_generator)\n",
        "  y_pred = np.argmax(predict, axis=1)\n",
        "  y_true = valid_data_generator.classes\n",
        "  cm = confusion_matrix(y_true, y_pred)\n",
        "  \n",
        "  teste.append(cm[0][0])\n",
        "  teste.append(cm[1][1])\n",
        "\n",
        "  cm_display = ConfusionMatrixDisplay(confusion_matrix=cm,display_labels= classes)\n",
        "  cm_display.plot()\n",
        "  plt.suptitle(i)\n",
        "\n",
        "caminho = '/content/drive/MyDrive/Colab Notebooks/teste/saved_models'\n",
        "\n",
        "j=0\n",
        "sensibility_total =0\n",
        "specificity_total=0\n",
        "\n",
        "for i in os.listdir(caminho):\n",
        "  m = '/content/drive/MyDrive/Colab Notebooks/teste/saved_models/{}'.format(i)\n",
        "  m = keras.models.load_model(m)\n",
        "  confusion_matrix_model(m, i)\n",
        "    \n",
        "  tam = len(valid_data_generator.filenames)\n",
        "\n",
        "  #Sensibilidade = casos positivos corretos \n",
        "  sensibility = teste[j] / cont\n",
        "  sensibility_total += sensibility\n",
        "\n",
        "  #Especificidade = casos negativos corretos\n",
        "  specificity =  teste[j+1] / (tam - cont)\n",
        "  specificity_total += specificity\n",
        "\n",
        "  print('{}\\nSensibilidade = {} | Especificidade = {}\\n'.format(i, sensibility, specificity))\n",
        "  j+=2\n",
        "\n",
        "#Sensibilidade e Especificidade total\n",
        "print('\\nSensibilidade Total = {} | Especificidade Total = {}\\n'.format((sensibility_total / (j/2)), (specificity_total/ (j/2))))\n",
        "\n",
        "#print(sensibility_total)\n",
        "#print(specificity_total)\n"
      ],
      "execution_count": 18,
      "outputs": [
        {
          "output_type": "stream",
          "text": [
            "model_1.h5\n",
            "Sensibilidade = 0.5625 | Especificidade = 0.42857142857142855\n",
            "\n",
            "model_2.h5\n",
            "Sensibilidade = 1.0 | Especificidade = 0.0\n",
            "\n",
            "model_3.h5\n",
            "Sensibilidade = 1.0 | Especificidade = 0.0\n",
            "\n",
            "model_4.h5\n",
            "Sensibilidade = 0.8125 | Especificidade = 0.0\n",
            "\n",
            "model_5.h5\n",
            "Sensibilidade = 1.0 | Especificidade = 0.0\n",
            "\n",
            "\n",
            "Sensibilidade Total = 0.875 | Especificidade Total = 0.08571428571428572\n",
            "\n"
          ],
          "name": "stdout"
        },
        {
          "output_type": "display_data",
          "data": {
            "image/png": "[encoded data removed]",
            "text/plain": [
              "<Figure size 432x288 with 2 Axes>"
            ]
          },
          "metadata": {
            "tags": [],
            "needs_background": "light"
          }
        },
        {
          "output_type": "display_data",
          "data": {
            "image/png": "[encoded data removed]",
            "text/plain": [
              "<Figure size 432x288 with 2 Axes>"
            ]
          },
          "metadata": {
            "tags": [],
            "needs_background": "light"
          }
        },
        {
          "output_type": "display_data",
          "data": {
            "image/png": "[encoded data removed]",
            "text/plain": [
              "<Figure size 432x288 with 2 Axes>"
            ]
          },
          "metadata": {
            "tags": [],
            "needs_background": "light"
          }
        },
        {
          "output_type": "display_data",
          "data": {
            "image/png": "[encoded data removed]",
            "text/plain": [
              "<Figure size 432x288 with 2 Axes>"
            ]
          },
          "metadata": {
            "tags": [],
            "needs_background": "light"
          }
        },
        {
          "output_type": "display_data",
          "data": {
            "image/png": "[encoded data removed]",
            "text/plain": [
              "<Figure size 432x288 with 2 Axes>"
            ]
          },
          "metadata": {
            "tags": [],
            "needs_background": "light"
          }
        }
      ]
    },
    {
      "cell_type": "markdown",
      "metadata": {
        "id": "NcBEd1lSP7gi"
      },
      "source": [
        "# Curva roc"
      ]
    },
    {
      "cell_type": "code",
      "metadata": {
        "colab": {
          "base_uri": "https://localhost:8080/",
          "height": 282
        },
        "id": "fdmwlJ9uP78K",
        "outputId": "7697039e-f773-4f6f-f0f3-9a93b9f30875"
      },
      "source": [
        "import numpy as np\n",
        "from sklearn import metrics\n",
        "import matplotlib.pyplot\n",
        "\n",
        "saved_model = keras.models.load_model(\"/content/drive/MyDrive/Colab Notebooks/teste/saved_models/model_1.h5\")\n",
        "\n",
        "predict = saved_model.predict(valid_data_generator)\n",
        "y_pred = np.argmax(predict, axis=1)\n",
        "y_true = valid_data_generator.classes\n",
        "\n",
        "y_pred = y_pred.tolist() #convertendo para lista\n",
        "\n",
        "fpr, tpr, thresholds = metrics.roc_curve(y_true, y_pred)\n",
        "roc_auc  = metrics.auc(fpr, tpr)\n",
        "\n",
        "plt.plot(fpr, tpr, label = 'AUC = %0.2f' % roc_auc)\n",
        "\n"
      ],
      "execution_count": 19,
      "outputs": [
        {
          "output_type": "execute_result",
          "data": {
            "text/plain": [
              "[<matplotlib.lines.Line2D at 0x7f69e78b0390>]"
            ]
          },
          "metadata": {
            "tags": []
          },
          "execution_count": 19
        },
        {
          "output_type": "display_data",
          "data": {
            "image/png": "[encoded data removed]",
            "text/plain": [
              "<Figure size 432x288 with 1 Axes>"
            ]
          },
          "metadata": {
            "tags": [],
            "needs_background": "light"
          }
        }
      ]
    }
  ]
}